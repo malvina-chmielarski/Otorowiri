{
 "cells": [
  {
   "cell_type": "markdown",
   "id": "3d9ba7a3",
   "metadata": {},
   "source": [
    "### Investigating pinchouts"
   ]
  },
  {
   "cell_type": "code",
   "execution_count": 1,
   "id": "afd844f3",
   "metadata": {},
   "outputs": [],
   "source": [
    "import numpy as np\n",
    "import pandas as pd\n",
    "import numbers"
   ]
  },
  {
   "cell_type": "code",
   "execution_count": 2,
   "id": "14e8a4bb",
   "metadata": {},
   "outputs": [],
   "source": [
    "bore_info = pd.read_excel(\"../Geological_data/Dwer_data\\Formation picks.xls\",sheet_name = \"bore_info2\")\n",
    "strat_info = pd.read_excel(\"../Geological_data/Dwer_data\\Formation picks.xls\",sheet_name = \"strat_info2\")"
   ]
  },
  {
   "cell_type": "code",
   "execution_count": 3,
   "id": "f4688c67",
   "metadata": {},
   "outputs": [
    {
     "name": "stdout",
     "output_type": "stream",
     "text": [
      "['Ground', 'TQ', 'Kwlp']\n"
     ]
    },
    {
     "data": {
      "text/html": [
       "<div>\n",
       "<style scoped>\n",
       "    .dataframe tbody tr th:only-of-type {\n",
       "        vertical-align: middle;\n",
       "    }\n",
       "\n",
       "    .dataframe tbody tr th {\n",
       "        vertical-align: top;\n",
       "    }\n",
       "\n",
       "    .dataframe thead th {\n",
       "        text-align: right;\n",
       "    }\n",
       "</style>\n",
       "<table border=\"1\" class=\"dataframe\">\n",
       "  <thead>\n",
       "    <tr style=\"text-align: right;\">\n",
       "      <th></th>\n",
       "      <th>Easting</th>\n",
       "      <th>Northing</th>\n",
       "      <th>ID</th>\n",
       "      <th>Ground</th>\n",
       "      <th>TQ</th>\n",
       "      <th>Kwlp</th>\n",
       "    </tr>\n",
       "  </thead>\n",
       "  <tbody>\n",
       "    <tr>\n",
       "      <th>0</th>\n",
       "      <td>1000</td>\n",
       "      <td>500</td>\n",
       "      <td>A</td>\n",
       "      <td>0</td>\n",
       "      <td>-100</td>\n",
       "      <td>-</td>\n",
       "    </tr>\n",
       "    <tr>\n",
       "      <th>1</th>\n",
       "      <td>2000</td>\n",
       "      <td>500</td>\n",
       "      <td>B</td>\n",
       "      <td>0</td>\n",
       "      <td>-100</td>\n",
       "      <td>-200</td>\n",
       "    </tr>\n",
       "    <tr>\n",
       "      <th>2</th>\n",
       "      <td>3000</td>\n",
       "      <td>500</td>\n",
       "      <td>C</td>\n",
       "      <td>0</td>\n",
       "      <td>-100</td>\n",
       "      <td>-</td>\n",
       "    </tr>\n",
       "  </tbody>\n",
       "</table>\n",
       "</div>"
      ],
      "text/plain": [
       "   Easting  Northing ID  Ground   TQ  Kwlp\n",
       "0     1000       500  A       0 -100     -\n",
       "1     2000       500  B       0 -100  -200\n",
       "2     3000       500  C       0 -100     -"
      ]
     },
     "execution_count": 3,
     "metadata": {},
     "output_type": "execute_result"
    }
   ],
   "source": [
    "df = bore_info.copy()\n",
    "x0, x1, y0, y1, z0, z1 = 0, 4000, 0, 1000, -400, 200\n",
    "df = df.drop(['Source'], axis=1)\n",
    "df = df.drop(['Tr','Tkm', 'Tk','Tkc','Jc','Kcom','Kps','Kpo','Kpc','Kcoh','Kcp','Kcl','Kcg', 'Kcm', 'Kcok','Kwg','Kws','Jy','Kwlw','Kwlm'], axis=1)\n",
    "df = df.reset_index(drop=True)\n",
    "\n",
    "lithcodes = list(df.columns.values[3:])   # Make a list of formations  \n",
    "df.Easting = pd.to_numeric(df.Easting)    # Make sure Eastings and Northings are numeric values\n",
    "df.Northing = pd.to_numeric(df.Northing)\n",
    "df.Ground = pd.to_numeric(df.Ground)\n",
    "print(lithcodes)\n",
    "df"
   ]
  },
  {
   "cell_type": "code",
   "execution_count": 4,
   "id": "b7677274",
   "metadata": {},
   "outputs": [
    {
     "data": {
      "image/png": "[encoded data removed]",
      "text/plain": [
       "<Figure size 640x480 with 1 Axes>"
      ]
     },
     "metadata": {},
     "output_type": "display_data"
    }
   ],
   "source": [
    "%matplotlib inline\n",
    "import matplotlib.pyplot as plt\n",
    "\n",
    "figure = True\n",
    "if figure:\n",
    "    plt.scatter(df.Easting, df.Northing)\n",
    "    plt.xlabel('Easting')\n",
    "    plt.ylabel('Northing')\n",
    "    i = 0\n",
    "    for (xi, yi) in zip(df.Easting, df.Northing):\n",
    "        plt.text(xi, yi, df.ID[i], size = 16, va='bottom', ha='center')\n",
    "        i += 1\n",
    "        plt.xlim(x0,x1)\n",
    "        plt.ylim(y0,y1)"
   ]
  },
  {
   "cell_type": "code",
   "execution_count": 5,
   "id": "593e437b",
   "metadata": {},
   "outputs": [
    {
     "name": "stdout",
     "output_type": "stream",
     "text": [
      "STRATIGRAPHY\n",
      "\n",
      "\n"
     ]
    },
    {
     "data": {
      "text/html": [
       "<div>\n",
       "<style scoped>\n",
       "    .dataframe tbody tr th:only-of-type {\n",
       "        vertical-align: middle;\n",
       "    }\n",
       "\n",
       "    .dataframe tbody tr th {\n",
       "        vertical-align: top;\n",
       "    }\n",
       "\n",
       "    .dataframe thead th {\n",
       "        text-align: right;\n",
       "    }\n",
       "</style>\n",
       "<table border=\"1\" class=\"dataframe\">\n",
       "  <thead>\n",
       "    <tr style=\"text-align: right;\">\n",
       "      <th></th>\n",
       "      <th>index</th>\n",
       "      <th>lithid</th>\n",
       "      <th>lithcode</th>\n",
       "      <th>sequences</th>\n",
       "      <th>vals</th>\n",
       "      <th>color</th>\n",
       "    </tr>\n",
       "  </thead>\n",
       "  <tbody>\n",
       "    <tr>\n",
       "      <th>0</th>\n",
       "      <td>0</td>\n",
       "      <td>-1</td>\n",
       "      <td>Ground</td>\n",
       "      <td>Ground</td>\n",
       "      <td>100</td>\n",
       "      <td>[1.0, 1.0, 1.0]</td>\n",
       "    </tr>\n",
       "    <tr>\n",
       "      <th>1</th>\n",
       "      <td>1</td>\n",
       "      <td>0</td>\n",
       "      <td>TQ</td>\n",
       "      <td>Quaternary</td>\n",
       "      <td>90</td>\n",
       "      <td>[1.0, 1.0, 0.0]</td>\n",
       "    </tr>\n",
       "    <tr>\n",
       "      <th>2</th>\n",
       "      <td>2</td>\n",
       "      <td>1</td>\n",
       "      <td>Kwlp</td>\n",
       "      <td>Warnbro</td>\n",
       "      <td>80</td>\n",
       "      <td>[0.8, 1.0, 0.2]</td>\n",
       "    </tr>\n",
       "  </tbody>\n",
       "</table>\n",
       "</div>"
      ],
      "text/plain": [
       "   index  lithid lithcode   sequences  vals            color\n",
       "0      0      -1   Ground      Ground   100  [1.0, 1.0, 1.0]\n",
       "1      1       0       TQ  Quaternary    90  [1.0, 1.0, 0.0]\n",
       "2      2       1     Kwlp     Warnbro    80  [0.8, 1.0, 0.2]"
      ]
     },
     "execution_count": 5,
     "metadata": {},
     "output_type": "execute_result"
    }
   ],
   "source": [
    "strat = []\n",
    "for i, lith in enumerate(lithcodes):\n",
    "    index = i\n",
    "    lithid = i-1\n",
    "    val = 100 - i*10 # arbitrary isolvalue\n",
    "    sequence = strat_info.loc[strat_info['unit'] == lith, 'sequence'].item() \n",
    "    R = strat_info.loc[strat_info['unit'] == lith, 'R'].item()/255\n",
    "    G = strat_info.loc[strat_info['unit'] == lith, 'G'].item()/255\n",
    "    B = strat_info.loc[strat_info['unit'] == lith, 'B'].item()/255\n",
    "    strat.append([index, lithid, lith, sequence, val, [round(R,2),round(G,2),round(B,2)]])\n",
    "strat = pd.DataFrame(strat)\n",
    "strat.columns =['index','lithid','lithcode','sequences','vals','color']\n",
    "print('STRATIGRAPHY\\n\\n')\n",
    "strat"
   ]
  },
  {
   "cell_type": "markdown",
   "id": "44614e04",
   "metadata": {},
   "source": [
    "### Make lithology table for Loop"
   ]
  },
  {
   "cell_type": "code",
   "execution_count": 45,
   "id": "09c22f38",
   "metadata": {},
   "outputs": [
    {
     "name": "stdout",
     "output_type": "stream",
     "text": [
      "Kwlp  is absent in  A\n",
      "Kwlp  is absent in  C\n"
     ]
    },
    {
     "data": {
      "text/html": [
       "<div>\n",
       "<style scoped>\n",
       "    .dataframe tbody tr th:only-of-type {\n",
       "        vertical-align: middle;\n",
       "    }\n",
       "\n",
       "    .dataframe tbody tr th {\n",
       "        vertical-align: top;\n",
       "    }\n",
       "\n",
       "    .dataframe thead th {\n",
       "        text-align: right;\n",
       "    }\n",
       "</style>\n",
       "<table border=\"1\" class=\"dataframe\">\n",
       "  <thead>\n",
       "    <tr style=\"text-align: right;\">\n",
       "      <th></th>\n",
       "      <th>ID</th>\n",
       "      <th>X</th>\n",
       "      <th>Y</th>\n",
       "      <th>Z</th>\n",
       "      <th>val</th>\n",
       "      <th>lithcode</th>\n",
       "      <th>feature_name</th>\n",
       "      <th>gx</th>\n",
       "      <th>gy</th>\n",
       "      <th>gz</th>\n",
       "    </tr>\n",
       "  </thead>\n",
       "  <tbody>\n",
       "    <tr>\n",
       "      <th>0</th>\n",
       "      <td>A</td>\n",
       "      <td>1000</td>\n",
       "      <td>500</td>\n",
       "      <td>0.0</td>\n",
       "      <td>100</td>\n",
       "      <td>Ground</td>\n",
       "      <td>Ground</td>\n",
       "      <td>0</td>\n",
       "      <td>0</td>\n",
       "      <td>1</td>\n",
       "    </tr>\n",
       "    <tr>\n",
       "      <th>1</th>\n",
       "      <td>A</td>\n",
       "      <td>1000</td>\n",
       "      <td>500</td>\n",
       "      <td>-100.0</td>\n",
       "      <td>90</td>\n",
       "      <td>TQ</td>\n",
       "      <td>Quaternary</td>\n",
       "      <td>0</td>\n",
       "      <td>0</td>\n",
       "      <td>1</td>\n",
       "    </tr>\n",
       "    <tr>\n",
       "      <th>2</th>\n",
       "      <td>A</td>\n",
       "      <td>1000</td>\n",
       "      <td>500</td>\n",
       "      <td>-50.0</td>\n",
       "      <td>80</td>\n",
       "      <td>Kwlp</td>\n",
       "      <td>Warnbro</td>\n",
       "      <td>0</td>\n",
       "      <td>0</td>\n",
       "      <td>1</td>\n",
       "    </tr>\n",
       "    <tr>\n",
       "      <th>3</th>\n",
       "      <td>B</td>\n",
       "      <td>2000</td>\n",
       "      <td>500</td>\n",
       "      <td>0.0</td>\n",
       "      <td>100</td>\n",
       "      <td>Ground</td>\n",
       "      <td>Ground</td>\n",
       "      <td>0</td>\n",
       "      <td>0</td>\n",
       "      <td>1</td>\n",
       "    </tr>\n",
       "    <tr>\n",
       "      <th>4</th>\n",
       "      <td>B</td>\n",
       "      <td>2000</td>\n",
       "      <td>500</td>\n",
       "      <td>-100.0</td>\n",
       "      <td>90</td>\n",
       "      <td>TQ</td>\n",
       "      <td>Quaternary</td>\n",
       "      <td>0</td>\n",
       "      <td>0</td>\n",
       "      <td>1</td>\n",
       "    </tr>\n",
       "    <tr>\n",
       "      <th>5</th>\n",
       "      <td>B</td>\n",
       "      <td>2000</td>\n",
       "      <td>500</td>\n",
       "      <td>-200.0</td>\n",
       "      <td>80</td>\n",
       "      <td>Kwlp</td>\n",
       "      <td>Warnbro</td>\n",
       "      <td>0</td>\n",
       "      <td>0</td>\n",
       "      <td>1</td>\n",
       "    </tr>\n",
       "    <tr>\n",
       "      <th>6</th>\n",
       "      <td>C</td>\n",
       "      <td>3000</td>\n",
       "      <td>500</td>\n",
       "      <td>0.0</td>\n",
       "      <td>100</td>\n",
       "      <td>Ground</td>\n",
       "      <td>Ground</td>\n",
       "      <td>0</td>\n",
       "      <td>0</td>\n",
       "      <td>1</td>\n",
       "    </tr>\n",
       "    <tr>\n",
       "      <th>7</th>\n",
       "      <td>C</td>\n",
       "      <td>3000</td>\n",
       "      <td>500</td>\n",
       "      <td>-100.0</td>\n",
       "      <td>90</td>\n",
       "      <td>TQ</td>\n",
       "      <td>Quaternary</td>\n",
       "      <td>0</td>\n",
       "      <td>0</td>\n",
       "      <td>1</td>\n",
       "    </tr>\n",
       "    <tr>\n",
       "      <th>8</th>\n",
       "      <td>C</td>\n",
       "      <td>3000</td>\n",
       "      <td>500</td>\n",
       "      <td>-50.0</td>\n",
       "      <td>80</td>\n",
       "      <td>Kwlp</td>\n",
       "      <td>Warnbro</td>\n",
       "      <td>0</td>\n",
       "      <td>0</td>\n",
       "      <td>1</td>\n",
       "    </tr>\n",
       "  </tbody>\n",
       "</table>\n",
       "</div>"
      ],
      "text/plain": [
       "  ID     X    Y      Z  val lithcode feature_name  gx  gy  gz\n",
       "0  A  1000  500    0.0  100   Ground       Ground   0   0   1\n",
       "1  A  1000  500 -100.0   90       TQ   Quaternary   0   0   1\n",
       "2  A  1000  500  -50.0   80     Kwlp      Warnbro   0   0   1\n",
       "3  B  2000  500    0.0  100   Ground       Ground   0   0   1\n",
       "4  B  2000  500 -100.0   90       TQ   Quaternary   0   0   1\n",
       "5  B  2000  500 -200.0   80     Kwlp      Warnbro   0   0   1\n",
       "6  C  3000  500    0.0  100   Ground       Ground   0   0   1\n",
       "7  C  3000  500 -100.0   90       TQ   Quaternary   0   0   1\n",
       "8  C  3000  500  -50.0   80     Kwlp      Warnbro   0   0   1"
      ]
     },
     "execution_count": 45,
     "metadata": {},
     "output_type": "execute_result"
    }
   ],
   "source": [
    "data_list = df.values.tolist()             # Turn data into a list of lists\n",
    "formatted_data = []\n",
    "\n",
    "for i in range(len(data_list)): #iterate for each row\n",
    "    \n",
    "    boreid = data_list[i][2]\n",
    "    easting, northing = data_list[i][0], data_list[i][1]\n",
    "    groundlevel = data_list[i][3]    \n",
    "           \n",
    "    # Add data for groundlevel\n",
    "    val = strat.vals[0]\n",
    "    #if boreid == 'B':\n",
    "    gx, gy, gz = 0,0,1\n",
    "    #else:\n",
    "    #gx, gy, gz = np.nan, np.nan, np.nan\n",
    "        \n",
    "    formatted_data.append([boreid, easting, northing, groundlevel, val, 'Ground', 'Ground', gx, gy, gz]) \n",
    "\n",
    "    # Add data row for each lithology\n",
    "    count = 1\n",
    "    for j in range(4,df.shape[1]): #iterate through each formation \n",
    "        \n",
    "        # Add lithology\n",
    "        if isinstance(data_list[i][j], numbers.Number) == True:    \n",
    "            bottom    = groundlevel + float(data_list[i][j])  # Ground surface - formation bottom (mbgl)\n",
    "            val       = strat.vals[count]                      # designated isovalue\n",
    "            lithid    = lithcodes[count]                       # lithology id \n",
    "            feat_name = strat.sequences[count]                 # sequence name\n",
    "            #if lithid == 'Kwlp' or lithid == 'Kwlm':\n",
    "            #else: \n",
    "            gx, gy, gz = 0,0,1\n",
    "            formatted_data.append([boreid, easting, northing, bottom, val, lithid, feat_name, gx, gy, gz])    \n",
    "   \n",
    "    # For absent units, put in a dummy point in    \n",
    "        else:\n",
    "            lithid    = lithcodes[count]                       # lithology id \n",
    "            print(lithid, ' is absent in ',boreid)\n",
    "            if lithid == 'Kwlp':\n",
    "                \n",
    "                bottom    = current_bottom  + 50\n",
    "            if lithid == 'Kwlm':\n",
    "                bottom    = current_bottom \n",
    "            val       = strat.vals[count]                      # designated isovalue\n",
    "            \n",
    "            feat_name = strat.sequences[count]                 # sequence name\n",
    "            gx, gy, gz = 0,0,1\n",
    "            formatted_data.append([boreid, easting, northing, bottom, val, lithid, feat_name, gx, gy, gz])\n",
    "\n",
    "        current_bottom = np.copy(bottom)\n",
    "        count+=1\n",
    "        \n",
    "data = pd.DataFrame(formatted_data)\n",
    "data.columns =['ID','X','Y','Z','val','lithcode','feature_name', 'gx', 'gy', 'gz']\n",
    "\n",
    "sequences = data['feature_name'].unique()\n",
    "data"
   ]
  },
  {
   "cell_type": "code",
   "execution_count": 46,
   "id": "c8ded4f2",
   "metadata": {
    "scrolled": false
   },
   "outputs": [],
   "source": [
    "for lith in lithcodes:\n",
    "    filtered_df = data[data.lithcode == lith] \n",
    "    #print('\\n')\n",
    "    #print(filtered_df)\n",
    "    #print(filtered_df.to_string(index=False))"
   ]
  },
  {
   "cell_type": "markdown",
   "id": "e7c8ab33",
   "metadata": {},
   "source": [
    "### Create Geomodel"
   ]
  },
  {
   "cell_type": "code",
   "execution_count": 47,
   "id": "c42b5890",
   "metadata": {
    "scrolled": false
   },
   "outputs": [],
   "source": [
    "from LoopStructural import GeologicalModel\n",
    "origin  = (x0, y0, z0)\n",
    "maximum = (x1, y1, z1)\n",
    "geomodel = GeologicalModel(origin, maximum)\n",
    "geomodel.data = data"
   ]
  },
  {
   "cell_type": "markdown",
   "id": "0a1493c4",
   "metadata": {},
   "source": [
    "### Add surfaces"
   ]
  },
  {
   "cell_type": "code",
   "execution_count": 48,
   "id": "ac65be50",
   "metadata": {
    "scrolled": true
   },
   "outputs": [
    {
     "name": "stdout",
     "output_type": "stream",
     "text": [
      "['Ground' 'Quaternary' 'Warnbro']\n"
     ]
    }
   ],
   "source": [
    "Ground     = geomodel.create_and_add_foliation(\"Ground\")\n",
    "GroundUC   = geomodel.add_unconformity(Ground, 100) # Clips above\n",
    "\n",
    "Quaternary = geomodel.create_and_add_foliation(\"Quaternary\")\n",
    "QuatUC     = geomodel.add_unconformity(Quaternary, 90) # Clips above\n",
    "\n",
    "Warnbro = geomodel.create_and_add_foliation(\"Warnbro\")\n",
    "#WarnUC  = geomodel.add_unconformity(Warnbro, 60)\n",
    "\n",
    "print(data.feature_name.unique())"
   ]
  },
  {
   "cell_type": "markdown",
   "id": "00f417ce",
   "metadata": {},
   "source": [
    "### Add Stratigraphy Column"
   ]
  },
  {
   "cell_type": "code",
   "execution_count": 49,
   "id": "72a21f7f",
   "metadata": {},
   "outputs": [],
   "source": [
    "stratigraphic_column = {}\n",
    "stratigraphic_column['Ground'] = {}\n",
    "stratigraphic_column['Ground']['Ground'] = {'min':100, 'max':np.inf, 'id':-1}\n",
    "stratigraphic_column['Quaternary'] = {}\n",
    "stratigraphic_column['Quaternary']['TQ'] = {'min':90, 'max':100, 'id':0}\n",
    "stratigraphic_column['Warnbro'] = {}\n",
    "stratigraphic_column['Warnbro']['Kwlp']  = {'min':80, 'max':90, 'id':1}\n",
    "stratigraphic_column['Warnbro']['Kwlw']  = {'min':-np.inf, 'max':80, 'id':2}\n",
    "\n",
    "geomodel.set_stratigraphic_column(stratigraphic_column)"
   ]
  },
  {
   "cell_type": "code",
   "execution_count": 50,
   "id": "82c01852",
   "metadata": {},
   "outputs": [
    {
     "data": {
      "text/plain": [
       "\"stratigraphic_column = {}\\nstratigraphic_column['Ground'] = {}\\nstratigraphic_column['Ground']['Ground'] = {'min':100, 'max':np.inf, 'id':-1}\\nstratigraphic_column['Quaternary'] = {}\\nstratigraphic_column['Quaternary']['TQ'] = {'min':90, 'max':100, 'id':0}\\nstratigraphic_column['Warnbro'] = {}\\nstratigraphic_column['Warnbro']['Kwlp']  = {'min':80, 'max':90, 'id':1}\\nstratigraphic_column['Warnbro']['Kwlw']  = {'min':70, 'max':80, 'id':2}\\nstratigraphic_column['Warnbro']['Kwlw']  = {'min':60, 'max':80, 'id':3}\\nstratigraphic_column['Yarragadee'] = {}\\nstratigraphic_column['Yarragadee']['Jy']  = {'min':-np.inf, 'max':60, 'id':4}\\n\\ngeomodel.set_stratigraphic_column(stratigraphic_column)\""
      ]
     },
     "execution_count": 50,
     "metadata": {},
     "output_type": "execute_result"
    }
   ],
   "source": [
    "'''stratigraphic_column = {}\n",
    "stratigraphic_column['Ground'] = {}\n",
    "stratigraphic_column['Ground']['Ground'] = {'min':100, 'max':np.inf, 'id':-1}\n",
    "stratigraphic_column['Quaternary'] = {}\n",
    "stratigraphic_column['Quaternary']['TQ'] = {'min':90, 'max':100, 'id':0}\n",
    "stratigraphic_column['Warnbro'] = {}\n",
    "stratigraphic_column['Warnbro']['Kwlp']  = {'min':80, 'max':90, 'id':1}\n",
    "stratigraphic_column['Warnbro']['Kwlw']  = {'min':70, 'max':80, 'id':2}\n",
    "stratigraphic_column['Warnbro']['Kwlw']  = {'min':60, 'max':80, 'id':3}\n",
    "stratigraphic_column['Yarragadee'] = {}\n",
    "stratigraphic_column['Yarragadee']['Jy']  = {'min':-np.inf, 'max':60, 'id':4}\n",
    "\n",
    "geomodel.set_stratigraphic_column(stratigraphic_column)'''"
   ]
  },
  {
   "cell_type": "markdown",
   "id": "189751ad",
   "metadata": {},
   "source": [
    "### 3D View"
   ]
  },
  {
   "cell_type": "code",
   "execution_count": 63,
   "id": "bac21ac6",
   "metadata": {},
   "outputs": [],
   "source": [
    "from LoopStructural.visualisation import LavaVuModelViewer\n",
    "view = LavaVuModelViewer(geomodel, background='white')\n",
    "view.interactive(popout=True) \n",
    "view.add_isosurface(Ground,    isovalue=100, opacity=0.7, colour = 'blue')\n",
    "view.add_isosurface(Quaternary,isovalue=90, opacity=0.7, colour = 'yellow')\n",
    "view.add_isosurface(Warnbro,   isovalue=80, opacity=0.7, colour = 'red')\n",
    "#view.add_isosurface(Warnbro,   isovalue=70, opacity=0.7, colour = 'blue')\n",
    "#view.add_isosurface(Warnbro,   isovalue=60, opacity=0.7, colour = 'yellow')\n",
    "view.set_zscale(zscale = 5)"
   ]
  },
  {
   "cell_type": "markdown",
   "id": "69a4057f",
   "metadata": {},
   "source": [
    "### 2D View"
   ]
  },
  {
   "cell_type": "code",
   "execution_count": 61,
   "id": "c296abe7",
   "metadata": {},
   "outputs": [
    {
     "data": {
      "image/png": "[encoded data removed]",
      "text/plain": [
       "<Figure size 600x300 with 1 Axes>"
      ]
     },
     "metadata": {},
     "output_type": "display_data"
    }
   ],
   "source": [
    "y_transects = 500\n",
    "\n",
    "Ground_levels = [-999, 100]\n",
    "Quaternary_levels = [-999, 90]\n",
    "Warnbro_levels = [-999, 80]\n",
    "\n",
    "fig, ax = plt.subplots(1,1,figsize=(6,3))\n",
    "\n",
    "delx, delz = 100, 200\n",
    "x, z = np.linspace(x0,x1,delx), np.linspace(z0,z1,delz)\n",
    "xx, zz = np.meshgrid(x,z)\n",
    "yy = np.zeros_like(xx)\n",
    "yy[:] = y_transects\n",
    "ax.set_title('Section A (y = %i)' %y_transects)\n",
    "\n",
    "vals1 = geomodel.evaluate_feature_value('Ground',np.array([xx.flatten(),yy.flatten(),zz.flatten()]).T)\n",
    "cf1 = ax.contour(vals1.reshape((delz, delx)), cmap = 'Blues', levels = Ground_levels, extent=(x0, x1, z0, z1))\n",
    "ax.clabel(cf1, inline=True, fontsize=10)\n",
    "\n",
    "vals2 = geomodel.evaluate_feature_value('Quaternary',np.array([xx.flatten(),yy.flatten(),zz.flatten()]).T)\n",
    "cf2 = ax.contour(vals2.reshape((delz, delx)), cmap = 'Greens', levels = Quaternary_levels, extent=(x0, x1, z0, z1))\n",
    "ax.clabel(cf2, inline=True, fontsize=10)\n",
    "\n",
    "vals3 = geomodel.evaluate_feature_value('Warnbro',np.array([xx.flatten(),yy.flatten(),zz.flatten()]).T)\n",
    "cf3 = ax.contour(vals3.reshape((delz, delx)), cmap = 'Reds', levels = Warnbro_levels, extent=(x0, x1, z0, z1))\n",
    "ax.clabel(cf3, inline=True, fontsize=10)\n",
    "\n",
    "plt.tight_layout() \n",
    "plt.show()"
   ]
  }
 ],
 "metadata": {
  "kernelspec": {
   "display_name": "Python [conda env:loop3denv]",
   "language": "python",
   "name": "conda-env-loop3denv-py"
  },
  "language_info": {
   "codemirror_mode": {
    "name": "ipython",
    "version": 3
   },
   "file_extension": ".py",
   "mimetype": "text/x-python",
   "name": "python",
   "nbconvert_exporter": "python",
   "pygments_lexer": "ipython3",
   "version": "3.9.18"
  }
 },
 "nbformat": 4,
 "nbformat_minor": 5
}
