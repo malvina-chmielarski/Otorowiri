{
 "cells": [
  {
   "cell_type": "markdown",
   "id": "179824b9",
   "metadata": {},
   "source": [
    "### Processing drain information"
   ]
  },
  {
   "cell_type": "markdown",
   "id": "fc435f6c",
   "metadata": {},
   "source": [
    "This is a notebook to process drain for Otorowiri model. Stand alone script that will export a file to be used in the main script."
   ]
  },
  {
   "cell_type": "markdown",
   "id": "d3b50334",
   "metadata": {},
   "source": [
    "<p align=\"center\">\n",
    "  <img src=\"../figures/drain_conceptualisation.png\" alt=\"Alt text\" width=\"500\" style=\"display:inline-block;\"/>\n",
    "  <img src=\"../figures/drain_equation.png\" alt=\"Alt text\" width=\"500\" style=\"display:inline-block;\"/>\n",
    "</p>"
   ]
  },
  {
   "cell_type": "code",
   "execution_count": null,
   "id": "898710f8",
   "metadata": {},
   "outputs": [
    {
     "data": {
      "text/plain": [
       "6"
      ]
     },
     "execution_count": 1,
     "metadata": {},
     "output_type": "execute_result"
    }
   ],
   "source": [
    "gdf = gpd.read_file('../data/data_shp/Model_Streams.shp')\n",
    "gdf.to_crs(epsg=28350, inplace=True)\n",
    "gdf = gpd.clip(gdf, spatial.model_boundary_poly).reset_index(drop=True)\n",
    "\n",
    "##Arrowsmith River polygons\n",
    "Arrowsmith_gdf = gdf[((gdf['something'] == 'Arrowsmith_1') | (gdf['something'] == 'Arrowsmith_2') | (gdf['something'] == 'Arrowsmith_3'))]\n",
    "ls1 = Arrowsmith_gdf.iloc[0].geometry\n",
    "ls2 = Arrowsmith_gdf.iloc[1].geometry\n",
    "ls3 = Arrowsmith_gdf.iloc[2].geometry\n",
    "\n",
    "lines = [ls1, ls2, ls3]\n",
    "labels = ['ls1', 'ls2', 'ls3']\n",
    "def plot_linestrings(lines, labels):\n",
    "    fig, ax = plt.subplots() \n",
    "    for line, label in zip(lines, labels):\n",
    "        x, y = line.xy\n",
    "        ax.plot(x, y, '-o', ms = 2, label = label)  # You can set color, linestyle, etc.\n",
    "\n",
    "    ax.set_aspect('equal')\n",
    "    ax.legend()\n",
    "    plt.show()\n",
    "plot_linestrings(lines, labels)"
   ]
  },
  {
   "cell_type": "code",
   "execution_count": null,
   "id": "5f401232",
   "metadata": {},
   "outputs": [],
   "source": []
  }
 ],
 "metadata": {
  "kernelspec": {
   "display_name": "loopflopy",
   "language": "python",
   "name": "python3"
  },
  "language_info": {
   "codemirror_mode": {
    "name": "ipython",
    "version": 3
   },
   "file_extension": ".py",
   "mimetype": "text/x-python",
   "name": "python",
   "nbconvert_exporter": "python",
   "pygments_lexer": "ipython3",
   "version": "3.12.5"
  }
 },
 "nbformat": 4,
 "nbformat_minor": 5
}
