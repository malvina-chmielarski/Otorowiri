{
 "cells": [
  {
   "cell_type": "markdown",
   "id": "f5c129b5",
   "metadata": {},
   "source": [
    "### Investigating pinchouts - using unconformity between each lithology"
   ]
  },
  {
   "cell_type": "code",
   "execution_count": 1,
   "id": "a2d81091",
   "metadata": {},
   "outputs": [
    {
     "data": {
      "text/html": [
       "<div>\n",
       "<style scoped>\n",
       "    .dataframe tbody tr th:only-of-type {\n",
       "        vertical-align: middle;\n",
       "    }\n",
       "\n",
       "    .dataframe tbody tr th {\n",
       "        vertical-align: top;\n",
       "    }\n",
       "\n",
       "    .dataframe thead th {\n",
       "        text-align: right;\n",
       "    }\n",
       "</style>\n",
       "<table border=\"1\" class=\"dataframe\">\n",
       "  <thead>\n",
       "    <tr style=\"text-align: right;\">\n",
       "      <th></th>\n",
       "      <th>ID</th>\n",
       "      <th>Easting</th>\n",
       "      <th>Northing</th>\n",
       "      <th>Ground</th>\n",
       "      <th>a</th>\n",
       "      <th>b</th>\n",
       "      <th>c</th>\n",
       "    </tr>\n",
       "  </thead>\n",
       "  <tbody>\n",
       "    <tr>\n",
       "      <th>0</th>\n",
       "      <td>P1</td>\n",
       "      <td>1500</td>\n",
       "      <td>750</td>\n",
       "      <td>0</td>\n",
       "      <td>-50</td>\n",
       "      <td>-70</td>\n",
       "      <td>-</td>\n",
       "    </tr>\n",
       "    <tr>\n",
       "      <th>1</th>\n",
       "      <td>P2</td>\n",
       "      <td>1500</td>\n",
       "      <td>250</td>\n",
       "      <td>0</td>\n",
       "      <td>-50</td>\n",
       "      <td>-70</td>\n",
       "      <td>-</td>\n",
       "    </tr>\n",
       "    <tr>\n",
       "      <th>2</th>\n",
       "      <td>P3</td>\n",
       "      <td>3500</td>\n",
       "      <td>750</td>\n",
       "      <td>0</td>\n",
       "      <td>-50</td>\n",
       "      <td>-</td>\n",
       "      <td>-</td>\n",
       "    </tr>\n",
       "    <tr>\n",
       "      <th>3</th>\n",
       "      <td>P4</td>\n",
       "      <td>3500</td>\n",
       "      <td>250</td>\n",
       "      <td>0</td>\n",
       "      <td>-50</td>\n",
       "      <td>-</td>\n",
       "      <td>-</td>\n",
       "    </tr>\n",
       "  </tbody>\n",
       "</table>\n",
       "</div>"
      ],
      "text/plain": [
       "   ID  Easting  Northing  Ground   a    b  c\n",
       "0  P1     1500       750       0 -50  -70  -\n",
       "1  P2     1500       250       0 -50  -70  -\n",
       "2  P3     3500       750       0 -50    -  -\n",
       "3  P4     3500       250       0 -50    -  -"
      ]
     },
     "execution_count": 1,
     "metadata": {},
     "output_type": "execute_result"
    }
   ],
   "source": [
    "import numpy as np\n",
    "import pandas as pd\n",
    "import numbers\n",
    "\n",
    "bore_data = pd.read_excel(\"../data/data_simple_example.xls\",sheet_name = \"bore_data\")\n",
    "strat = pd.read_excel(\"../data/data_simple_example.xls\",sheet_name = \"strat\")\n",
    "bore_data"
   ]
  },
  {
   "cell_type": "code",
   "execution_count": 2,
   "id": "c1b07c2a",
   "metadata": {},
   "outputs": [
    {
     "name": "stdout",
     "output_type": "stream",
     "text": [
      "['Ground', 'a', 'b', 'c']\n"
     ]
    },
    {
     "data": {
      "text/html": [
       "<div>\n",
       "<style scoped>\n",
       "    .dataframe tbody tr th:only-of-type {\n",
       "        vertical-align: middle;\n",
       "    }\n",
       "\n",
       "    .dataframe tbody tr th {\n",
       "        vertical-align: top;\n",
       "    }\n",
       "\n",
       "    .dataframe thead th {\n",
       "        text-align: right;\n",
       "    }\n",
       "</style>\n",
       "<table border=\"1\" class=\"dataframe\">\n",
       "  <thead>\n",
       "    <tr style=\"text-align: right;\">\n",
       "      <th></th>\n",
       "      <th>ID</th>\n",
       "      <th>Easting</th>\n",
       "      <th>Northing</th>\n",
       "      <th>Ground</th>\n",
       "      <th>a</th>\n",
       "      <th>b</th>\n",
       "      <th>c</th>\n",
       "    </tr>\n",
       "  </thead>\n",
       "  <tbody>\n",
       "    <tr>\n",
       "      <th>0</th>\n",
       "      <td>P1</td>\n",
       "      <td>1500</td>\n",
       "      <td>750</td>\n",
       "      <td>0</td>\n",
       "      <td>-50</td>\n",
       "      <td>-70</td>\n",
       "      <td>-</td>\n",
       "    </tr>\n",
       "    <tr>\n",
       "      <th>1</th>\n",
       "      <td>P2</td>\n",
       "      <td>1500</td>\n",
       "      <td>250</td>\n",
       "      <td>0</td>\n",
       "      <td>-50</td>\n",
       "      <td>-70</td>\n",
       "      <td>-</td>\n",
       "    </tr>\n",
       "    <tr>\n",
       "      <th>2</th>\n",
       "      <td>P3</td>\n",
       "      <td>3500</td>\n",
       "      <td>750</td>\n",
       "      <td>0</td>\n",
       "      <td>-50</td>\n",
       "      <td>-</td>\n",
       "      <td>-</td>\n",
       "    </tr>\n",
       "    <tr>\n",
       "      <th>3</th>\n",
       "      <td>P4</td>\n",
       "      <td>3500</td>\n",
       "      <td>250</td>\n",
       "      <td>0</td>\n",
       "      <td>-50</td>\n",
       "      <td>-</td>\n",
       "      <td>-</td>\n",
       "    </tr>\n",
       "  </tbody>\n",
       "</table>\n",
       "</div>"
      ],
      "text/plain": [
       "   ID  Easting  Northing  Ground   a    b  c\n",
       "0  P1     1500       750       0 -50  -70  -\n",
       "1  P2     1500       250       0 -50  -70  -\n",
       "2  P3     3500       750       0 -50    -  -\n",
       "3  P4     3500       250       0 -50    -  -"
      ]
     },
     "execution_count": 2,
     "metadata": {},
     "output_type": "execute_result"
    }
   ],
   "source": [
    "x0, x1, y0, y1, z0, z1 = 0, 5000, 0, 1000, -200, 100\n",
    "\n",
    "df = bore_data.copy()\n",
    "units = list(df.columns.values[3:])   # Make a list of formations  \n",
    "df.Easting = pd.to_numeric(df.Easting)    # Make sure Eastings and Northings are numeric values\n",
    "df.Northing = pd.to_numeric(df.Northing)\n",
    "df.Ground = pd.to_numeric(df.Ground)\n",
    "print(units)\n",
    "df"
   ]
  },
  {
   "cell_type": "code",
   "execution_count": 3,
   "id": "ed9efb0d",
   "metadata": {},
   "outputs": [
    {
     "data": {
      "image/png": "[encoded data removed]",
      "text/plain": [
       "<Figure size 1000x200 with 1 Axes>"
      ]
     },
     "metadata": {},
     "output_type": "display_data"
    }
   ],
   "source": [
    "%matplotlib inline\n",
    "import matplotlib.pyplot as plt\n",
    "\n",
    "figure = True\n",
    "if figure:\n",
    "    plt.figure(figsize=(10,2))\n",
    "    plt.scatter(df.Easting, df.Northing)\n",
    "    plt.xlabel('Easting')\n",
    "    plt.ylabel('Northing')\n",
    "    i = 0\n",
    "    for (xi, yi) in zip(df.Easting, df.Northing):\n",
    "        plt.text(xi, yi, df.ID[i], size = 16, va='bottom', ha='center')\n",
    "        i += 1\n",
    "        plt.xlim(x0,x1)\n",
    "        plt.ylim(y0,y1)"
   ]
  },
  {
   "cell_type": "markdown",
   "id": "508ee493",
   "metadata": {},
   "source": [
    "### Make lithology table for Loop"
   ]
  },
  {
   "cell_type": "code",
   "execution_count": 4,
   "id": "e80683e9",
   "metadata": {},
   "outputs": [
    {
     "name": "stderr",
     "output_type": "stream",
     "text": [
      "WARNING: 2024-04-30 00:06:29,324: __init__.py:75 -- Can't import surfepy - to install \"pip install surfe\"\n",
      "WARNING: 2024-04-30 00:06:29,326: __init__.py:77 -- Using experimental interpolators: P1Interpolator and P2Interpolator\n"
     ]
    },
    {
     "data": {
      "text/html": [
       "<div>\n",
       "<style scoped>\n",
       "    .dataframe tbody tr th:only-of-type {\n",
       "        vertical-align: middle;\n",
       "    }\n",
       "\n",
       "    .dataframe tbody tr th {\n",
       "        vertical-align: top;\n",
       "    }\n",
       "\n",
       "    .dataframe thead th {\n",
       "        text-align: right;\n",
       "    }\n",
       "</style>\n",
       "<table border=\"1\" class=\"dataframe\">\n",
       "  <thead>\n",
       "    <tr style=\"text-align: right;\">\n",
       "      <th></th>\n",
       "      <th>ID</th>\n",
       "      <th>X</th>\n",
       "      <th>Y</th>\n",
       "      <th>Z</th>\n",
       "      <th>val</th>\n",
       "      <th>lithcode</th>\n",
       "      <th>feature_name</th>\n",
       "      <th>gx</th>\n",
       "      <th>gy</th>\n",
       "      <th>gz</th>\n",
       "    </tr>\n",
       "  </thead>\n",
       "  <tbody>\n",
       "    <tr>\n",
       "      <th>0</th>\n",
       "      <td>P1</td>\n",
       "      <td>1500</td>\n",
       "      <td>750</td>\n",
       "      <td>0.0</td>\n",
       "      <td>0</td>\n",
       "      <td>Ground</td>\n",
       "      <td>Ground</td>\n",
       "      <td>0.0</td>\n",
       "      <td>0.0</td>\n",
       "      <td>1.0</td>\n",
       "    </tr>\n",
       "    <tr>\n",
       "      <th>1</th>\n",
       "      <td>P1</td>\n",
       "      <td>1500</td>\n",
       "      <td>750</td>\n",
       "      <td>-50.0</td>\n",
       "      <td>-50</td>\n",
       "      <td>a</td>\n",
       "      <td>Upper</td>\n",
       "      <td>0.0</td>\n",
       "      <td>0.0</td>\n",
       "      <td>1.0</td>\n",
       "    </tr>\n",
       "    <tr>\n",
       "      <th>2</th>\n",
       "      <td>P1</td>\n",
       "      <td>1500</td>\n",
       "      <td>750</td>\n",
       "      <td>-70.0</td>\n",
       "      <td>-70</td>\n",
       "      <td>b</td>\n",
       "      <td>Lower</td>\n",
       "      <td>0.0</td>\n",
       "      <td>0.0</td>\n",
       "      <td>1.0</td>\n",
       "    </tr>\n",
       "    <tr>\n",
       "      <th>3</th>\n",
       "      <td>P2</td>\n",
       "      <td>1500</td>\n",
       "      <td>250</td>\n",
       "      <td>0.0</td>\n",
       "      <td>0</td>\n",
       "      <td>Ground</td>\n",
       "      <td>Ground</td>\n",
       "      <td>0.0</td>\n",
       "      <td>0.0</td>\n",
       "      <td>1.0</td>\n",
       "    </tr>\n",
       "    <tr>\n",
       "      <th>4</th>\n",
       "      <td>P2</td>\n",
       "      <td>1500</td>\n",
       "      <td>250</td>\n",
       "      <td>-50.0</td>\n",
       "      <td>-50</td>\n",
       "      <td>a</td>\n",
       "      <td>Upper</td>\n",
       "      <td>0.0</td>\n",
       "      <td>0.0</td>\n",
       "      <td>1.0</td>\n",
       "    </tr>\n",
       "    <tr>\n",
       "      <th>5</th>\n",
       "      <td>P2</td>\n",
       "      <td>1500</td>\n",
       "      <td>250</td>\n",
       "      <td>-70.0</td>\n",
       "      <td>-70</td>\n",
       "      <td>b</td>\n",
       "      <td>Lower</td>\n",
       "      <td>0.0</td>\n",
       "      <td>0.0</td>\n",
       "      <td>1.0</td>\n",
       "    </tr>\n",
       "    <tr>\n",
       "      <th>6</th>\n",
       "      <td>P3</td>\n",
       "      <td>3500</td>\n",
       "      <td>750</td>\n",
       "      <td>0.0</td>\n",
       "      <td>0</td>\n",
       "      <td>Ground</td>\n",
       "      <td>Ground</td>\n",
       "      <td>0.0</td>\n",
       "      <td>0.0</td>\n",
       "      <td>1.0</td>\n",
       "    </tr>\n",
       "    <tr>\n",
       "      <th>7</th>\n",
       "      <td>P3</td>\n",
       "      <td>3500</td>\n",
       "      <td>750</td>\n",
       "      <td>-50.0</td>\n",
       "      <td>-50</td>\n",
       "      <td>a</td>\n",
       "      <td>Upper</td>\n",
       "      <td>0.0</td>\n",
       "      <td>0.0</td>\n",
       "      <td>1.0</td>\n",
       "    </tr>\n",
       "    <tr>\n",
       "      <th>8</th>\n",
       "      <td>P4</td>\n",
       "      <td>3500</td>\n",
       "      <td>250</td>\n",
       "      <td>0.0</td>\n",
       "      <td>0</td>\n",
       "      <td>Ground</td>\n",
       "      <td>Ground</td>\n",
       "      <td>0.0</td>\n",
       "      <td>0.0</td>\n",
       "      <td>1.0</td>\n",
       "    </tr>\n",
       "    <tr>\n",
       "      <th>9</th>\n",
       "      <td>P4</td>\n",
       "      <td>3500</td>\n",
       "      <td>250</td>\n",
       "      <td>-50.0</td>\n",
       "      <td>-50</td>\n",
       "      <td>a</td>\n",
       "      <td>Upper</td>\n",
       "      <td>0.0</td>\n",
       "      <td>0.0</td>\n",
       "      <td>1.0</td>\n",
       "    </tr>\n",
       "    <tr>\n",
       "      <th>10</th>\n",
       "      <td>D1</td>\n",
       "      <td>2000</td>\n",
       "      <td>750</td>\n",
       "      <td>-50.0</td>\n",
       "      <td>-70</td>\n",
       "      <td>b</td>\n",
       "      <td>Lower</td>\n",
       "      <td>NaN</td>\n",
       "      <td>NaN</td>\n",
       "      <td>NaN</td>\n",
       "    </tr>\n",
       "  </tbody>\n",
       "</table>\n",
       "</div>"
      ],
      "text/plain": [
       "    ID     X    Y     Z  val lithcode feature_name   gx   gy   gz\n",
       "0   P1  1500  750   0.0    0   Ground       Ground  0.0  0.0  1.0\n",
       "1   P1  1500  750 -50.0  -50        a        Upper  0.0  0.0  1.0\n",
       "2   P1  1500  750 -70.0  -70        b        Lower  0.0  0.0  1.0\n",
       "3   P2  1500  250   0.0    0   Ground       Ground  0.0  0.0  1.0\n",
       "4   P2  1500  250 -50.0  -50        a        Upper  0.0  0.0  1.0\n",
       "5   P2  1500  250 -70.0  -70        b        Lower  0.0  0.0  1.0\n",
       "6   P3  3500  750   0.0    0   Ground       Ground  0.0  0.0  1.0\n",
       "7   P3  3500  750 -50.0  -50        a        Upper  0.0  0.0  1.0\n",
       "8   P4  3500  250   0.0    0   Ground       Ground  0.0  0.0  1.0\n",
       "9   P4  3500  250 -50.0  -50        a        Upper  0.0  0.0  1.0\n",
       "10  D1  2000  750 -50.0  -70        b        Lower  NaN  NaN  NaN"
      ]
     },
     "execution_count": 4,
     "metadata": {},
     "output_type": "execute_result"
    }
   ],
   "source": [
    "from LoopStructural.utils.helper import strike_dip_vector\n",
    "\n",
    "data_list = df.values.tolist()             # Turn data into a list of lists\n",
    "formatted_data = []\n",
    "\n",
    "for i in range(len(data_list)): #iterate for each row\n",
    "    \n",
    "    boreid = data_list[i][0]\n",
    "    easting, northing = data_list[i][1], data_list[i][2]\n",
    "    groundlevel = data_list[i][3]    \n",
    "           \n",
    "    # Add data for groundlevel\n",
    "    val = strat.val[0]\n",
    "    gx, gy, gz = 0,0,1 # flat\n",
    "    formatted_data.append([boreid, easting, northing, groundlevel, val, 'Ground', 'Ground', gx, gy, gz]) \n",
    "\n",
    "    # Add data row for each lithology\n",
    "    count = 1\n",
    "    for j in range(4,df.shape[1]-1): #iterate through each formation \n",
    "        \n",
    "        # Add lithology\n",
    "        if isinstance(data_list[i][j], numbers.Number) == True:    \n",
    "            bottom    = groundlevel + float(data_list[i][j])  # Ground surface - formation bottom (mbgl)\n",
    "            val       = strat.val[count]                   # designated isovalue\n",
    "            unit      = strat.unit[count]                  # unit \n",
    "            feature   = strat.sequence[count]              # sequence\n",
    "            gx, gy, gz = 0,0,1                                # normal vector to surface (flat)\n",
    "            formatted_data.append([boreid, easting, northing, bottom, val, unit, feature, gx, gy, gz])    \n",
    "            current_bottom = np.copy(bottom)            \n",
    "        count+=1\n",
    "        \n",
    "# For pinchout, add dummy point  \n",
    "boreid = 'D1'\n",
    "Deasting, Dnorthing = 2000, 750\n",
    "bottom = -50\n",
    "unit    = 'b'   \n",
    "val       = -70          \n",
    "feature   = strat.sequence[count]   \n",
    "#strike, dip = 180, 30\n",
    "#gx, gy, gz = strike_dip_vector([strike], [dip])[0]   \n",
    "\n",
    "formatted_data.append([boreid, Deasting, Dnorthing, bottom, val, unit, feature])\n",
    "        \n",
    "data = pd.DataFrame(formatted_data)\n",
    "data.columns =['ID','X','Y','Z','val','lithcode','feature_name', 'gx', 'gy', 'gz']\n",
    "\n",
    "sequences = data['feature_name'].unique()\n",
    "data"
   ]
  },
  {
   "cell_type": "markdown",
   "id": "f3d4b87d",
   "metadata": {},
   "source": [
    "### Create Geomodel"
   ]
  },
  {
   "cell_type": "code",
   "execution_count": 5,
   "id": "6d9bbf6d",
   "metadata": {
    "scrolled": false
   },
   "outputs": [],
   "source": [
    "import LoopStructural\n",
    "from LoopStructural import GeologicalModel\n",
    "origin  = (x0, y0, z0)\n",
    "maximum = (x1, y1, z1)\n",
    "geomodel = GeologicalModel(origin, maximum)\n",
    "geomodel.data = data"
   ]
  },
  {
   "cell_type": "markdown",
   "id": "241b7b8a",
   "metadata": {},
   "source": [
    "### Add surfaces"
   ]
  },
  {
   "cell_type": "code",
   "execution_count": 6,
   "id": "d553ec38",
   "metadata": {},
   "outputs": [],
   "source": [
    "Ground     = geomodel.create_and_add_foliation(\"Ground\")\n",
    "GroundUC   = geomodel.add_unconformity(Ground, 0)\n",
    "Upper      = geomodel.create_and_add_foliation(\"Upper\")\n",
    "UpperUC    = geomodel.add_unconformity(Upper, -50) \n",
    "Lower      = geomodel.create_and_add_foliation(\"Lower\") "
   ]
  },
  {
   "cell_type": "code",
   "execution_count": 7,
   "id": "3e149583",
   "metadata": {
    "scrolled": true
   },
   "outputs": [
    {
     "data": {
      "text/plain": [
       "{'Ground': 0,\n",
       " 'Ground_unconformity': 1,\n",
       " 'Upper': 2,\n",
       " 'Upper_unconformity': 3,\n",
       " 'Lower': 4}"
      ]
     },
     "execution_count": 7,
     "metadata": {},
     "output_type": "execute_result"
    }
   ],
   "source": [
    "geomodel.feature_name_index"
   ]
  },
  {
   "cell_type": "markdown",
   "id": "0ebe37ca",
   "metadata": {},
   "source": [
    "### Add Stratigraphy Column"
   ]
  },
  {
   "cell_type": "code",
   "execution_count": 8,
   "id": "9efaf12f",
   "metadata": {},
   "outputs": [
    {
     "data": {
      "text/plain": [
       "{'Ground': {'Ground': {'min': 0, 'max': inf, 'id': 0}},\n",
       " 'Upper': {'a': {'min': -50, 'max': 0, 'id': 1}},\n",
       " 'Lower': {'b': {'min': -70, 'max': -50, 'id': 2},\n",
       "  'c': {'min': -inf, 'max': -70, 'id': 3}}}"
      ]
     },
     "execution_count": 8,
     "metadata": {},
     "output_type": "execute_result"
    }
   ],
   "source": [
    "stratigraphic_column = {}\n",
    "stratigraphic_column[\"Ground\"] = {}\n",
    "stratigraphic_column[\"Ground\"][\"Ground\"] = {\"min\": 0, \"max\": np.inf, \"id\": 0}\n",
    "stratigraphic_column[\"Upper\"] = {}\n",
    "stratigraphic_column[\"Upper\"][\"a\"] = {\"min\": -50, \"max\": 0, \"id\": 1}\n",
    "stratigraphic_column[\"Lower\"] = {}\n",
    "stratigraphic_column[\"Lower\"][\"b\"] = {\"min\": -70, \"max\": -50, \"id\": 2}\n",
    "stratigraphic_column[\"Lower\"][\"c\"] = {\"min\": -np.inf, \"max\": -70, \"id\": 3}\n",
    "stratigraphic_column"
   ]
  },
  {
   "cell_type": "markdown",
   "id": "67029902",
   "metadata": {},
   "source": [
    "### 3D View"
   ]
  },
  {
   "cell_type": "code",
   "execution_count": 9,
   "id": "fa67f7c5",
   "metadata": {},
   "outputs": [],
   "source": [
    "#from LoopStructural.visualisation import LavaVuModelViewer\n",
    "#viewer =  LavaVuModelViewer(geomodel)\n",
    "#viewer.add_isosurface(Ground, colour = 'green')\n",
    "#viewer.add_isosurface(Upper, colour = 'purple')\n",
    "#viewer.add_isosurface(Lower, colour = 'blue')\n",
    "#viewer.set_zscale(zscale = 5)\n",
    "#viewer.interactive()"
   ]
  },
  {
   "cell_type": "markdown",
   "id": "02a419c4",
   "metadata": {},
   "source": [
    "### 2D View"
   ]
  },
  {
   "cell_type": "code",
   "execution_count": 10,
   "id": "ce81b2ac",
   "metadata": {},
   "outputs": [
    {
     "data": {
      "image/png": "[encoded data removed]",
      "text/plain": [
       "<Figure size 600x200 with 1 Axes>"
      ]
     },
     "metadata": {},
     "output_type": "display_data"
    }
   ],
   "source": [
    "sequence_list = [\"Ground\", \"Upper\", \"Lower\"]\n",
    "y_transects = [500]\n",
    "\n",
    "fig, ax = plt.subplots(1,1,figsize=(6,2))\n",
    "\n",
    "delx, delz = 100, 200\n",
    "x, z = np.linspace(x0,x1,delx), np.linspace(z0,z1,delz)\n",
    "xx, zz = np.meshgrid(x,z)\n",
    "yy = np.zeros_like(xx)\n",
    "yy[:] = 500\n",
    "ax.set_title('Pinchout easting = %0.1f' %Deasting)\n",
    "\n",
    "for i, seq in enumerate(sequence_list):\n",
    "    levels = [-999, strat.val[i]]\n",
    "    vals = geomodel.evaluate_feature_value(seq, np.array([xx.flatten(),yy.flatten(),zz.flatten()]).T)\n",
    "    con = ax.contour(vals.reshape((delz, delx)), levels = levels, extent=(x0, x1, z0, z1), cmap = 'Blues')\n",
    "    ax.clabel(con, inline=True, fontsize=10)\n",
    "\n",
    "plt.tight_layout() \n",
    "\n",
    "plt.show()\n"
   ]
  },
  {
   "cell_type": "code",
   "execution_count": null,
   "id": "9a514fe4",
   "metadata": {},
   "outputs": [],
   "source": []
  },
  {
   "cell_type": "code",
   "execution_count": null,
   "id": "f670c4fc",
   "metadata": {},
   "outputs": [],
   "source": []
  },
  {
   "cell_type": "code",
   "execution_count": null,
   "id": "7b86c156",
   "metadata": {},
   "outputs": [],
   "source": []
  }
 ],
 "metadata": {
  "kernelspec": {
   "display_name": "Python [conda env:loop3denv]",
   "language": "python",
   "name": "conda-env-loop3denv-py"
  },
  "language_info": {
   "codemirror_mode": {
    "name": "ipython",
    "version": 3
   },
   "file_extension": ".py",
   "mimetype": "text/x-python",
   "name": "python",
   "nbconvert_exporter": "python",
   "pygments_lexer": "ipython3",
   "version": "3.9.18"
  }
 },
 "nbformat": 4,
 "nbformat_minor": 5
}
