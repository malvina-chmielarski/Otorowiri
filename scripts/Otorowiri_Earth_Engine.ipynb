{
 "cells": [
  {
   "cell_type": "code",
   "execution_count": null,
   "id": "20e8aa2d",
   "metadata": {},
   "outputs": [
    {
     "data": {
      "text/html": [
       "<p>To authorize access needed by Earth Engine, open the following\n",
       "        URL in a web browser and follow the instructions:</p>\n",
       "        <p><a href=https://code.earthengine.google.com/client-auth?scopes=https%3A//www.googleapis.com/auth/earthengine%20https%3A//www.googleapis.com/auth/cloud-platform%20https%3A//www.googleapis.com/auth/drive%20https%3A//www.googleapis.com/auth/devstorage.full_control&request_id=cfRTRouu5PPcPDukm4SCG7UFKD3dNu3S-kU7Cx_gcfM&tc=buZqHz4_kV2ZTG5Q8DlIpKXI5nCv1xe4RVD4L80g58o&cc=Cv4sE-BzfWJjXTB2lkBChs6_w-f_CslJd2W2E65ICdE>https://code.earthengine.google.com/client-auth?scopes=https%3A//www.googleapis.com/auth/earthengine%20https%3A//www.googleapis.com/auth/cloud-platform%20https%3A//www.googleapis.com/auth/drive%20https%3A//www.googleapis.com/auth/devstorage.full_control&request_id=cfRTRouu5PPcPDukm4SCG7UFKD3dNu3S-kU7Cx_gcfM&tc=buZqHz4_kV2ZTG5Q8DlIpKXI5nCv1xe4RVD4L80g58o&cc=Cv4sE-BzfWJjXTB2lkBChs6_w-f_CslJd2W2E65ICdE</a></p>\n",
       "        <p>The authorization workflow will generate a code, which you should paste in the box below.</p>\n",
       "        "
      ],
      "text/plain": [
       "<IPython.core.display.HTML object>"
      ]
     },
     "metadata": {},
     "output_type": "display_data"
    }
   ],
   "source": [
    "import ee\n",
    "import geemap\n",
    "\n",
    "# Initialize\n",
    "ee.Authenticate()\n",
    "ee.Initialize()"
   ]
  },
  {
   "cell_type": "code",
   "execution_count": null,
   "id": "fc39f8cc",
   "metadata": {},
   "outputs": [],
   "source": [
    "# Define region\n",
    "region = ee.Geometry.Rectangle([115.294, -29.15, 115.858, -29.95])"
   ]
  },
  {
   "cell_type": "code",
   "execution_count": null,
   "id": "a2a3a09a",
   "metadata": {},
   "outputs": [],
   "source": [
    "# Load AET dataset (e.g., SSEBop)\n",
    "aet = ee.ImageCollection(\"projects/ee-earthengine-datasets/assets/WRI/GFW/aet_monthly\") \\\n",
    "          .filterDate('1987-05-01', '1987-09-31') \\\n",
    "          .select('aet') \\\n",
    "          .mean()"
   ]
  },
  {
   "cell_type": "code",
   "execution_count": null,
   "id": "aae4f9e3",
   "metadata": {},
   "outputs": [],
   "source": [
    "# Export to Google Drive\n",
    "task = ee.batch.Export.image.toDrive(\n",
    "    image=aet.clip(region),\n",
    "    description='Mean_AET_1987_Wet',\n",
    "    folder='GEE_exports',\n",
    "    scale=1000,\n",
    "    region=region.getInfo()['coordinates'],\n",
    "    fileFormat='GeoTIFF'\n",
    ")\n",
    "task.start()"
   ]
  }
 ],
 "metadata": {
  "kernelspec": {
   "display_name": "loopflopy",
   "language": "python",
   "name": "python3"
  },
  "language_info": {
   "codemirror_mode": {
    "name": "ipython",
    "version": 3
   },
   "file_extension": ".py",
   "mimetype": "text/x-python",
   "name": "python",
   "nbconvert_exporter": "python",
   "pygments_lexer": "ipython3",
   "version": "3.12.5"
  }
 },
 "nbformat": 4,
 "nbformat_minor": 5
}
