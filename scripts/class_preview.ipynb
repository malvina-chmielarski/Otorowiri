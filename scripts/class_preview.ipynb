{
 "cells": [
  {
   "cell_type": "code",
   "execution_count": 4,
   "id": "4ccc07a2-21bb-4954-9007-21ab2377db46",
   "metadata": {},
   "outputs": [
    {
     "name": "stdout",
     "output_type": "stream",
     "text": [
      "Classes found in the script: ['StructuralModel']\n"
     ]
    }
   ],
   "source": [
    "import ast\n",
    "\n",
    "def find_classes_in_script(file_path):\n",
    "    with open(file_path, \"r\") as file:\n",
    "        tree = ast.parse(file.read())  # Parse the Python script\n",
    "    \n",
    "    class_names = [node.name for node in ast.walk(tree) if isinstance(node, ast.ClassDef)]\n",
    "    return class_names\n",
    "\n",
    "# Path to your Python script\n",
    "file_path = \"make_structuralmodel.py\"\n",
    "\n",
    "# Find and print all class names\n",
    "classes = find_classes_in_script(file_path)\n",
    "print(\"Classes found in the script:\", classes)"
   ]
  },
  {
   "cell_type": "code",
   "execution_count": 6,
   "id": "ac78a57e-d1fd-4e0a-8c9f-eadfa0e0f445",
   "metadata": {},
   "outputs": [
    {
     "name": "stdout",
     "output_type": "stream",
     "text": [
      "Error parsing a cell: invalid syntax (<unknown>, line 18)\n",
      "Error parsing a cell: invalid syntax (<unknown>, line 1)\n",
      "Classes found in the notebook:\n",
      "Forecast\n"
     ]
    }
   ],
   "source": [
    "import json\n",
    "import ast\n",
    "\n",
    "def extract_classes_from_notebook(notebook_path):\n",
    "    # Load the notebook file\n",
    "    with open(notebook_path, 'r', encoding='utf-8') as f:\n",
    "        notebook = json.load(f)\n",
    "    \n",
    "    class_names = []\n",
    "\n",
    "    # Iterate through all cells in the notebook\n",
    "    for cell in notebook.get('cells', []):\n",
    "        if cell.get('cell_type') == 'code':  # Only process code cells\n",
    "            source_code = ''.join(cell.get('source', []))  # Extract the code\n",
    "            try:\n",
    "                # Parse the code cell content into an AST\n",
    "                tree = ast.parse(source_code)\n",
    "                # Find all class definitions in the cell\n",
    "                classes_in_cell = [node.name for node in ast.walk(tree) if isinstance(node, ast.ClassDef)]\n",
    "                class_names.extend(classes_in_cell)\n",
    "            except Exception as e:\n",
    "                print(f\"Error parsing a cell: {e}\")\n",
    "    \n",
    "    # Print all class names found\n",
    "    print(\"Classes found in the notebook:\")\n",
    "    for cls in set(class_names):\n",
    "        print(cls)\n",
    "\n",
    "# Path to the Jupyter Notebook file\n",
    "notebook_path = \"main_script_dev.ipynb\"\n",
    "extract_classes_from_notebook(notebook_path)"
   ]
  },
  {
   "cell_type": "code",
   "execution_count": null,
   "id": "54397455-48f9-4a8f-b277-6aec82fd0234",
   "metadata": {},
   "outputs": [],
   "source": []
  }
 ],
 "metadata": {
  "kernelspec": {
   "display_name": "Python 3 (ipykernel)",
   "language": "python",
   "name": "python3"
  },
  "language_info": {
   "codemirror_mode": {
    "name": "ipython",
    "version": 3
   },
   "file_extension": ".py",
   "mimetype": "text/x-python",
   "name": "python",
   "nbconvert_exporter": "python",
   "pygments_lexer": "ipython3",
   "version": "3.12.5"
  }
 },
 "nbformat": 4,
 "nbformat_minor": 5
}
