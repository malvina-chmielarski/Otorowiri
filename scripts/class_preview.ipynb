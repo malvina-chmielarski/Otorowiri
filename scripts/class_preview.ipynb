{
 "cells": [
  {
   "cell_type": "code",
   "execution_count": 1,
   "id": "4ccc07a2-21bb-4954-9007-21ab2377db46",
   "metadata": {},
   "outputs": [
    {
     "ename": "FileNotFoundError",
     "evalue": "[Errno 2] No such file or directory: 'make_structuralmodel.py'",
     "output_type": "error",
     "traceback": [
      "\u001b[1;31m---------------------------------------------------------------------------\u001b[0m",
      "\u001b[1;31mFileNotFoundError\u001b[0m                         Traceback (most recent call last)",
      "Cell \u001b[1;32mIn[1], line 14\u001b[0m\n\u001b[0;32m     11\u001b[0m file_path \u001b[38;5;241m=\u001b[39m \u001b[38;5;124m\"\u001b[39m\u001b[38;5;124mmake_structuralmodel.py\u001b[39m\u001b[38;5;124m\"\u001b[39m\n\u001b[0;32m     13\u001b[0m \u001b[38;5;66;03m# Find and print all class names\u001b[39;00m\n\u001b[1;32m---> 14\u001b[0m classes \u001b[38;5;241m=\u001b[39m \u001b[43mfind_classes_in_script\u001b[49m\u001b[43m(\u001b[49m\u001b[43mfile_path\u001b[49m\u001b[43m)\u001b[49m\n\u001b[0;32m     15\u001b[0m \u001b[38;5;28mprint\u001b[39m(\u001b[38;5;124m\"\u001b[39m\u001b[38;5;124mClasses found in the script:\u001b[39m\u001b[38;5;124m\"\u001b[39m, classes)\n",
      "Cell \u001b[1;32mIn[1], line 4\u001b[0m, in \u001b[0;36mfind_classes_in_script\u001b[1;34m(file_path)\u001b[0m\n\u001b[0;32m      3\u001b[0m \u001b[38;5;28;01mdef\u001b[39;00m \u001b[38;5;21mfind_classes_in_script\u001b[39m(file_path):\n\u001b[1;32m----> 4\u001b[0m     \u001b[38;5;28;01mwith\u001b[39;00m \u001b[38;5;28;43mopen\u001b[39;49m\u001b[43m(\u001b[49m\u001b[43mfile_path\u001b[49m\u001b[43m,\u001b[49m\u001b[43m \u001b[49m\u001b[38;5;124;43m\"\u001b[39;49m\u001b[38;5;124;43mr\u001b[39;49m\u001b[38;5;124;43m\"\u001b[39;49m\u001b[43m)\u001b[49m \u001b[38;5;28;01mas\u001b[39;00m file:\n\u001b[0;32m      5\u001b[0m         tree \u001b[38;5;241m=\u001b[39m ast\u001b[38;5;241m.\u001b[39mparse(file\u001b[38;5;241m.\u001b[39mread())  \u001b[38;5;66;03m# Parse the Python script\u001b[39;00m\n\u001b[0;32m      7\u001b[0m     class_names \u001b[38;5;241m=\u001b[39m [node\u001b[38;5;241m.\u001b[39mname \u001b[38;5;28;01mfor\u001b[39;00m node \u001b[38;5;129;01min\u001b[39;00m ast\u001b[38;5;241m.\u001b[39mwalk(tree) \u001b[38;5;28;01mif\u001b[39;00m \u001b[38;5;28misinstance\u001b[39m(node, ast\u001b[38;5;241m.\u001b[39mClassDef)]\n",
      "File \u001b[1;32m~\\Anaconda3\\envs\\LOOP\\Lib\\site-packages\\IPython\\core\\interactiveshell.py:324\u001b[0m, in \u001b[0;36m_modified_open\u001b[1;34m(file, *args, **kwargs)\u001b[0m\n\u001b[0;32m    317\u001b[0m \u001b[38;5;28;01mif\u001b[39;00m file \u001b[38;5;129;01min\u001b[39;00m {\u001b[38;5;241m0\u001b[39m, \u001b[38;5;241m1\u001b[39m, \u001b[38;5;241m2\u001b[39m}:\n\u001b[0;32m    318\u001b[0m     \u001b[38;5;28;01mraise\u001b[39;00m \u001b[38;5;167;01mValueError\u001b[39;00m(\n\u001b[0;32m    319\u001b[0m         \u001b[38;5;124mf\u001b[39m\u001b[38;5;124m\"\u001b[39m\u001b[38;5;124mIPython won\u001b[39m\u001b[38;5;124m'\u001b[39m\u001b[38;5;124mt let you open fd=\u001b[39m\u001b[38;5;132;01m{\u001b[39;00mfile\u001b[38;5;132;01m}\u001b[39;00m\u001b[38;5;124m by default \u001b[39m\u001b[38;5;124m\"\u001b[39m\n\u001b[0;32m    320\u001b[0m         \u001b[38;5;124m\"\u001b[39m\u001b[38;5;124mas it is likely to crash IPython. If you know what you are doing, \u001b[39m\u001b[38;5;124m\"\u001b[39m\n\u001b[0;32m    321\u001b[0m         \u001b[38;5;124m\"\u001b[39m\u001b[38;5;124myou can use builtins\u001b[39m\u001b[38;5;124m'\u001b[39m\u001b[38;5;124m open.\u001b[39m\u001b[38;5;124m\"\u001b[39m\n\u001b[0;32m    322\u001b[0m     )\n\u001b[1;32m--> 324\u001b[0m \u001b[38;5;28;01mreturn\u001b[39;00m \u001b[43mio_open\u001b[49m\u001b[43m(\u001b[49m\u001b[43mfile\u001b[49m\u001b[43m,\u001b[49m\u001b[43m \u001b[49m\u001b[38;5;241;43m*\u001b[39;49m\u001b[43margs\u001b[49m\u001b[43m,\u001b[49m\u001b[43m \u001b[49m\u001b[38;5;241;43m*\u001b[39;49m\u001b[38;5;241;43m*\u001b[39;49m\u001b[43mkwargs\u001b[49m\u001b[43m)\u001b[49m\n",
      "\u001b[1;31mFileNotFoundError\u001b[0m: [Errno 2] No such file or directory: 'make_structuralmodel.py'"
     ]
    }
   ],
   "source": [
    "import ast\n",
    "\n",
    "def find_classes_in_script(file_path):\n",
    "    with open(file_path, \"r\") as file:\n",
    "        tree = ast.parse(file.read())  # Parse the Python script\n",
    "    \n",
    "    class_names = [node.name for node in ast.walk(tree) if isinstance(node, ast.ClassDef)]\n",
    "    return class_names\n",
    "\n",
    "# Path to your Python script\n",
    "file_path = \"make_structuralmodel.py\"\n",
    "\n",
    "# Find and print all class names\n",
    "classes = find_classes_in_script(file_path)\n",
    "print(\"Classes found in the script:\", classes)"
   ]
  },
  {
   "cell_type": "code",
   "execution_count": 6,
   "id": "ac78a57e-d1fd-4e0a-8c9f-eadfa0e0f445",
   "metadata": {},
   "outputs": [
    {
     "name": "stdout",
     "output_type": "stream",
     "text": [
      "Error parsing a cell: invalid syntax (<unknown>, line 18)\n",
      "Error parsing a cell: invalid syntax (<unknown>, line 1)\n",
      "Classes found in the notebook:\n",
      "Forecast\n"
     ]
    }
   ],
   "source": [
    "import json\n",
    "import ast\n",
    "\n",
    "def extract_classes_from_notebook(notebook_path):\n",
    "    # Load the notebook file\n",
    "    with open(notebook_path, 'r', encoding='utf-8') as f:\n",
    "        notebook = json.load(f)\n",
    "    \n",
    "    class_names = []\n",
    "\n",
    "    # Iterate through all cells in the notebook\n",
    "    for cell in notebook.get('cells', []):\n",
    "        if cell.get('cell_type') == 'code':  # Only process code cells\n",
    "            source_code = ''.join(cell.get('source', []))  # Extract the code\n",
    "            try:\n",
    "                # Parse the code cell content into an AST\n",
    "                tree = ast.parse(source_code)\n",
    "                # Find all class definitions in the cell\n",
    "                classes_in_cell = [node.name for node in ast.walk(tree) if isinstance(node, ast.ClassDef)]\n",
    "                class_names.extend(classes_in_cell)\n",
    "            except Exception as e:\n",
    "                print(f\"Error parsing a cell: {e}\")\n",
    "    \n",
    "    # Print all class names found\n",
    "    print(\"Classes found in the notebook:\")\n",
    "    for cls in set(class_names):\n",
    "        print(cls)\n",
    "\n",
    "# Path to the Jupyter Notebook file\n",
    "notebook_path = \"main_script_dev.ipynb\"\n",
    "extract_classes_from_notebook(notebook_path)"
   ]
  },
  {
   "cell_type": "code",
   "execution_count": null,
   "id": "54397455-48f9-4a8f-b277-6aec82fd0234",
   "metadata": {},
   "outputs": [],
   "source": []
  }
 ],
 "metadata": {
  "kernelspec": {
   "display_name": "Python 3 (ipykernel)",
   "language": "python",
   "name": "python3"
  },
  "language_info": {
   "codemirror_mode": {
    "name": "ipython",
    "version": 3
   },
   "file_extension": ".py",
   "mimetype": "text/x-python",
   "name": "python",
   "nbconvert_exporter": "python",
   "pygments_lexer": "ipython3",
   "version": "3.12.5"
  }
 },
 "nbformat": 4,
 "nbformat_minor": 5
}
